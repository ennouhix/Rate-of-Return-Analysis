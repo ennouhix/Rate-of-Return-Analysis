{
 "cells": [
  {
   "cell_type": "code",
   "execution_count": 1,
   "metadata": {},
   "outputs": [],
   "source": [
    "import numpy as np\n",
    "import pandas as pd\n",
    "from pandas_datareader import data as wb\n",
    "import matplotlib.pyplot as plt"
   ]
  },
  {
   "cell_type": "code",
   "execution_count": 11,
   "metadata": {},
   "outputs": [],
   "source": [
    "import pandas as pd\n",
    "\n",
    "PG = pd.read_csv('C:/Users/hp/Downloads/PG_1995-03_23_2017.csv', index_col='Date')\n"
   ]
  },
  {
   "cell_type": "code",
   "execution_count": 13,
   "metadata": {},
   "outputs": [],
   "source": [
    "PG = pd.read_csv('C:/Users/hp/Downloads/PG_1995-03_23_2017.csv')\n",
    "PG = PG.set_index('Date')"
   ]
  },
  {
   "cell_type": "code",
   "execution_count": 15,
   "metadata": {},
   "outputs": [
    {
     "data": {
      "text/html": [
       "<div>\n",
       "<style scoped>\n",
       "    .dataframe tbody tr th:only-of-type {\n",
       "        vertical-align: middle;\n",
       "    }\n",
       "\n",
       "    .dataframe tbody tr th {\n",
       "        vertical-align: top;\n",
       "    }\n",
       "\n",
       "    .dataframe thead th {\n",
       "        text-align: right;\n",
       "    }\n",
       "</style>\n",
       "<table border=\"1\" class=\"dataframe\">\n",
       "  <thead>\n",
       "    <tr style=\"text-align: right;\">\n",
       "      <th></th>\n",
       "      <th>Open</th>\n",
       "      <th>High</th>\n",
       "      <th>Low</th>\n",
       "      <th>Close</th>\n",
       "      <th>Adj Close</th>\n",
       "      <th>Volume</th>\n",
       "    </tr>\n",
       "    <tr>\n",
       "      <th>Date</th>\n",
       "      <th></th>\n",
       "      <th></th>\n",
       "      <th></th>\n",
       "      <th></th>\n",
       "      <th></th>\n",
       "      <th></th>\n",
       "    </tr>\n",
       "  </thead>\n",
       "  <tbody>\n",
       "    <tr>\n",
       "      <th>1995-01-03</th>\n",
       "      <td>15.46875</td>\n",
       "      <td>15.62500</td>\n",
       "      <td>15.43750</td>\n",
       "      <td>62.375</td>\n",
       "      <td>15.59375</td>\n",
       "      <td>3318400</td>\n",
       "    </tr>\n",
       "    <tr>\n",
       "      <th>1995-01-04</th>\n",
       "      <td>15.53125</td>\n",
       "      <td>15.65625</td>\n",
       "      <td>15.31250</td>\n",
       "      <td>61.875</td>\n",
       "      <td>15.46875</td>\n",
       "      <td>2218800</td>\n",
       "    </tr>\n",
       "    <tr>\n",
       "      <th>1995-01-05</th>\n",
       "      <td>15.37500</td>\n",
       "      <td>15.43750</td>\n",
       "      <td>15.21875</td>\n",
       "      <td>61.000</td>\n",
       "      <td>15.25000</td>\n",
       "      <td>2319600</td>\n",
       "    </tr>\n",
       "    <tr>\n",
       "      <th>1995-01-06</th>\n",
       "      <td>15.15625</td>\n",
       "      <td>15.40625</td>\n",
       "      <td>15.15625</td>\n",
       "      <td>61.125</td>\n",
       "      <td>15.28125</td>\n",
       "      <td>3438000</td>\n",
       "    </tr>\n",
       "    <tr>\n",
       "      <th>1995-01-09</th>\n",
       "      <td>15.34375</td>\n",
       "      <td>15.40625</td>\n",
       "      <td>15.18750</td>\n",
       "      <td>60.875</td>\n",
       "      <td>15.21875</td>\n",
       "      <td>1795200</td>\n",
       "    </tr>\n",
       "  </tbody>\n",
       "</table>\n",
       "</div>"
      ],
      "text/plain": [
       "                Open      High       Low   Close  Adj Close   Volume\n",
       "Date                                                                \n",
       "1995-01-03  15.46875  15.62500  15.43750  62.375   15.59375  3318400\n",
       "1995-01-04  15.53125  15.65625  15.31250  61.875   15.46875  2218800\n",
       "1995-01-05  15.37500  15.43750  15.21875  61.000   15.25000  2319600\n",
       "1995-01-06  15.15625  15.40625  15.15625  61.125   15.28125  3438000\n",
       "1995-01-09  15.34375  15.40625  15.18750  60.875   15.21875  1795200"
      ]
     },
     "execution_count": 15,
     "metadata": {},
     "output_type": "execute_result"
    }
   ],
   "source": [
    "PG.head()"
   ]
  },
  {
   "cell_type": "code",
   "execution_count": 17,
   "metadata": {},
   "outputs": [
    {
     "data": {
      "text/html": [
       "<div>\n",
       "<style scoped>\n",
       "    .dataframe tbody tr th:only-of-type {\n",
       "        vertical-align: middle;\n",
       "    }\n",
       "\n",
       "    .dataframe tbody tr th {\n",
       "        vertical-align: top;\n",
       "    }\n",
       "\n",
       "    .dataframe thead th {\n",
       "        text-align: right;\n",
       "    }\n",
       "</style>\n",
       "<table border=\"1\" class=\"dataframe\">\n",
       "  <thead>\n",
       "    <tr style=\"text-align: right;\">\n",
       "      <th></th>\n",
       "      <th>Open</th>\n",
       "      <th>High</th>\n",
       "      <th>Low</th>\n",
       "      <th>Close</th>\n",
       "      <th>Adj Close</th>\n",
       "      <th>Volume</th>\n",
       "    </tr>\n",
       "    <tr>\n",
       "      <th>Date</th>\n",
       "      <th></th>\n",
       "      <th></th>\n",
       "      <th></th>\n",
       "      <th></th>\n",
       "      <th></th>\n",
       "      <th></th>\n",
       "    </tr>\n",
       "  </thead>\n",
       "  <tbody>\n",
       "    <tr>\n",
       "      <th>2017-03-17</th>\n",
       "      <td>91.449997</td>\n",
       "      <td>92.000000</td>\n",
       "      <td>90.919998</td>\n",
       "      <td>91.000000</td>\n",
       "      <td>91.000000</td>\n",
       "      <td>37010100</td>\n",
       "    </tr>\n",
       "    <tr>\n",
       "      <th>2017-03-20</th>\n",
       "      <td>90.959999</td>\n",
       "      <td>91.410004</td>\n",
       "      <td>90.940002</td>\n",
       "      <td>91.220001</td>\n",
       "      <td>91.220001</td>\n",
       "      <td>7772900</td>\n",
       "    </tr>\n",
       "    <tr>\n",
       "      <th>2017-03-21</th>\n",
       "      <td>91.300003</td>\n",
       "      <td>91.750000</td>\n",
       "      <td>91.029999</td>\n",
       "      <td>91.190002</td>\n",
       "      <td>91.190002</td>\n",
       "      <td>8211000</td>\n",
       "    </tr>\n",
       "    <tr>\n",
       "      <th>2017-03-22</th>\n",
       "      <td>91.309998</td>\n",
       "      <td>91.800003</td>\n",
       "      <td>90.750000</td>\n",
       "      <td>90.989998</td>\n",
       "      <td>90.989998</td>\n",
       "      <td>7798000</td>\n",
       "    </tr>\n",
       "    <tr>\n",
       "      <th>2017-03-23</th>\n",
       "      <td>90.910004</td>\n",
       "      <td>91.459999</td>\n",
       "      <td>90.599998</td>\n",
       "      <td>90.769997</td>\n",
       "      <td>90.769997</td>\n",
       "      <td>6831400</td>\n",
       "    </tr>\n",
       "  </tbody>\n",
       "</table>\n",
       "</div>"
      ],
      "text/plain": [
       "                 Open       High        Low      Close  Adj Close    Volume\n",
       "Date                                                                       \n",
       "2017-03-17  91.449997  92.000000  90.919998  91.000000  91.000000  37010100\n",
       "2017-03-20  90.959999  91.410004  90.940002  91.220001  91.220001   7772900\n",
       "2017-03-21  91.300003  91.750000  91.029999  91.190002  91.190002   8211000\n",
       "2017-03-22  91.309998  91.800003  90.750000  90.989998  90.989998   7798000\n",
       "2017-03-23  90.910004  91.459999  90.599998  90.769997  90.769997   6831400"
      ]
     },
     "execution_count": 17,
     "metadata": {},
     "output_type": "execute_result"
    }
   ],
   "source": [
    "PG.tail()"
   ]
  },
  {
   "cell_type": "markdown",
   "metadata": {
    "collapsed": true,
    "jupyter": {
     "outputs_hidden": true
    }
   },
   "source": [
    "## Simple Rate of Return"
   ]
  },
  {
   "cell_type": "markdown",
   "metadata": {},
   "source": [
    "$$\n",
    "\\frac{P_1 - P_0}{P_0} = \\frac{P_1}{P_0} - 1\n",
    "$$"
   ]
  },
  {
   "cell_type": "code",
   "execution_count": 19,
   "metadata": {
    "scrolled": true
   },
   "outputs": [
    {
     "name": "stdout",
     "output_type": "stream",
     "text": [
      "Date\n",
      "1995-01-03         NaN\n",
      "1995-01-04   -0.008016\n",
      "1995-01-05   -0.014141\n",
      "1995-01-06    0.002049\n",
      "1995-01-09   -0.004090\n",
      "                ...   \n",
      "2017-03-17   -0.004812\n",
      "2017-03-20    0.002418\n",
      "2017-03-21   -0.000329\n",
      "2017-03-22   -0.002193\n",
      "2017-03-23   -0.002418\n",
      "Name: simple_return, Length: 5596, dtype: float64\n"
     ]
    }
   ],
   "source": [
    "PG['simple_return'] = (PG['Close'] / PG['Close'].shift(1)) - 1\n",
    "print (PG['simple_return'])"
   ]
  },
  {
   "cell_type": "code",
   "execution_count": 27,
   "metadata": {},
   "outputs": [
    {
     "data": {
      "text/plain": [
       "<Axes: xlabel='Date'>"
      ]
     },
     "execution_count": 27,
     "metadata": {},
     "output_type": "execute_result"
    },
    {
     "data": {
      "image/png": "[encoded data removed]",
      "text/plain": [
       "<Figure size 1000x500 with 1 Axes>"
      ]
     },
     "metadata": {},
     "output_type": "display_data"
    }
   ],
   "source": [
    "PG['simple_return'].plot(figsize=(10,5))"
   ]
  },
  {
   "cell_type": "code",
   "execution_count": 29,
   "metadata": {},
   "outputs": [],
   "source": [
    "#calculate the average daily of rate of return\n",
    "avg_returns_d = PG['simple_return'].mean.()"
   ]
  },
  {
   "cell_type": "code",
   "execution_count": 31,
   "metadata": {},
   "outputs": [
    {
     "data": {
      "text/plain": [
       "<bound method Series.mean of Date\n",
       "1995-01-03         NaN\n",
       "1995-01-04   -0.008016\n",
       "1995-01-05   -0.014141\n",
       "1995-01-06    0.002049\n",
       "1995-01-09   -0.004090\n",
       "                ...   \n",
       "2017-03-17   -0.004812\n",
       "2017-03-20    0.002418\n",
       "2017-03-21   -0.000329\n",
       "2017-03-22   -0.002193\n",
       "2017-03-23   -0.002418\n",
       "Name: simple_return, Length: 5596, dtype: float64>"
      ]
     },
     "execution_count": 31,
     "metadata": {},
     "output_type": "execute_result"
    }
   ],
   "source": [
    "avg_returns_d "
   ]
  },
  {
   "cell_type": "code",
   "execution_count": 37,
   "metadata": {},
   "outputs": [],
   "source": [
    "avg_returns_a = PG['simple_return'].mean() * 250"
   ]
  },
  {
   "cell_type": "code",
   "execution_count": 35,
   "metadata": {},
   "outputs": [
    {
     "data": {
      "text/plain": [
       "0.060094286390402804"
      ]
     },
     "execution_count": 35,
     "metadata": {},
     "output_type": "execute_result"
    }
   ],
   "source": [
    "avg_returns_a"
   ]
  },
  {
   "cell_type": "code",
   "execution_count": 48,
   "metadata": {},
   "outputs": [
    {
     "name": "stdout",
     "output_type": "stream",
     "text": [
      "6.0089999999999995%\n"
     ]
    }
   ],
   "source": [
    "print(str(round(avg_returns_a, 5) * 100) + '%')\n"
   ]
  },
  {
   "cell_type": "code",
   "execution_count": null,
   "metadata": {},
   "outputs": [],
   "source": []
  },
  {
   "cell_type": "code",
   "execution_count": null,
   "metadata": {},
   "outputs": [],
   "source": []
  }
 ],
 "metadata": {
  "kernelspec": {
   "display_name": "Python 3 (ipykernel)",
   "language": "python",
   "name": "python3"
  },
  "language_info": {
   "codemirror_mode": {
    "name": "ipython",
    "version": 3
   },
   "file_extension": ".py",
   "mimetype": "text/x-python",
   "name": "python",
   "nbconvert_exporter": "python",
   "pygments_lexer": "ipython3",
   "version": "3.11.7"
  }
 },
 "nbformat": 4,
 "nbformat_minor": 4
}
